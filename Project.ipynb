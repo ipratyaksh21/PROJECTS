{
 "cells": [
  {
   "cell_type": "code",
   "execution_count": 1,
   "id": "a46b3520",
   "metadata": {},
   "outputs": [],
   "source": [
    "import pandas as pd\n",
    "import numpy as np"
   ]
  },
  {
   "cell_type": "code",
   "execution_count": 5,
   "id": "2463a844",
   "metadata": {},
   "outputs": [],
   "source": [
    "data = pd.read_csv(r\"C:\\Users\\PRATYAKSH\\Downloads\\census09.csv\")"
   ]
  },
  {
   "cell_type": "code",
   "execution_count": 7,
   "id": "0b62020e",
   "metadata": {},
   "outputs": [
    {
     "data": {
      "text/html": [
       "<div>\n",
       "<style scoped>\n",
       "    .dataframe tbody tr th:only-of-type {\n",
       "        vertical-align: middle;\n",
       "    }\n",
       "\n",
       "    .dataframe tbody tr th {\n",
       "        vertical-align: top;\n",
       "    }\n",
       "\n",
       "    .dataframe thead th {\n",
       "        text-align: right;\n",
       "    }\n",
       "</style>\n",
       "<table border=\"1\" class=\"dataframe\">\n",
       "  <thead>\n",
       "    <tr style=\"text-align: right;\">\n",
       "      <th></th>\n",
       "      <th>House Number</th>\n",
       "      <th>Street</th>\n",
       "      <th>First Name</th>\n",
       "      <th>Surname</th>\n",
       "      <th>Age</th>\n",
       "      <th>Relationship to Head of House</th>\n",
       "      <th>Marital Status</th>\n",
       "      <th>Gender</th>\n",
       "      <th>Occupation</th>\n",
       "      <th>Infirmity</th>\n",
       "      <th>Religion</th>\n",
       "    </tr>\n",
       "  </thead>\n",
       "  <tbody>\n",
       "    <tr>\n",
       "      <th>0</th>\n",
       "      <td>1</td>\n",
       "      <td>Rhubarb Drive</td>\n",
       "      <td>Amy</td>\n",
       "      <td>Hall</td>\n",
       "      <td>41</td>\n",
       "      <td>Head</td>\n",
       "      <td>Single</td>\n",
       "      <td>Female</td>\n",
       "      <td>Drilling engineer</td>\n",
       "      <td>None</td>\n",
       "      <td>Catholic</td>\n",
       "    </tr>\n",
       "    <tr>\n",
       "      <th>1</th>\n",
       "      <td>1</td>\n",
       "      <td>Rhubarb Drive</td>\n",
       "      <td>Bruce</td>\n",
       "      <td>Murphy</td>\n",
       "      <td>49</td>\n",
       "      <td>Partner</td>\n",
       "      <td>Single</td>\n",
       "      <td>Male</td>\n",
       "      <td>Scientist, research (physical sciences)</td>\n",
       "      <td>None</td>\n",
       "      <td>Catholic</td>\n",
       "    </tr>\n",
       "    <tr>\n",
       "      <th>2</th>\n",
       "      <td>1</td>\n",
       "      <td>Rhubarb Drive</td>\n",
       "      <td>Billy</td>\n",
       "      <td>Hall</td>\n",
       "      <td>17</td>\n",
       "      <td>Son</td>\n",
       "      <td>NaN</td>\n",
       "      <td>Male</td>\n",
       "      <td>Student</td>\n",
       "      <td>None</td>\n",
       "      <td>NaN</td>\n",
       "    </tr>\n",
       "    <tr>\n",
       "      <th>3</th>\n",
       "      <td>1</td>\n",
       "      <td>Rhubarb Drive</td>\n",
       "      <td>Mary</td>\n",
       "      <td>Hall</td>\n",
       "      <td>15</td>\n",
       "      <td>Daughter</td>\n",
       "      <td>NaN</td>\n",
       "      <td>Female</td>\n",
       "      <td>Student</td>\n",
       "      <td>None</td>\n",
       "      <td>NaN</td>\n",
       "    </tr>\n",
       "    <tr>\n",
       "      <th>4</th>\n",
       "      <td>1</td>\n",
       "      <td>Rhubarb Drive</td>\n",
       "      <td>Elliott</td>\n",
       "      <td>Hall</td>\n",
       "      <td>13</td>\n",
       "      <td>Son</td>\n",
       "      <td>NaN</td>\n",
       "      <td>Male</td>\n",
       "      <td>Student</td>\n",
       "      <td>None</td>\n",
       "      <td>NaN</td>\n",
       "    </tr>\n",
       "  </tbody>\n",
       "</table>\n",
       "</div>"
      ],
      "text/plain": [
       "   House Number         Street First Name Surname Age  \\\n",
       "0             1  Rhubarb Drive        Amy    Hall  41   \n",
       "1             1  Rhubarb Drive      Bruce  Murphy  49   \n",
       "2             1  Rhubarb Drive      Billy    Hall  17   \n",
       "3             1  Rhubarb Drive       Mary    Hall  15   \n",
       "4             1  Rhubarb Drive    Elliott    Hall  13   \n",
       "\n",
       "  Relationship to Head of House Marital Status  Gender  \\\n",
       "0                          Head         Single  Female   \n",
       "1                       Partner         Single    Male   \n",
       "2                           Son            NaN    Male   \n",
       "3                      Daughter            NaN  Female   \n",
       "4                           Son            NaN    Male   \n",
       "\n",
       "                                Occupation Infirmity  Religion  \n",
       "0                        Drilling engineer      None  Catholic  \n",
       "1  Scientist, research (physical sciences)      None  Catholic  \n",
       "2                                  Student      None       NaN  \n",
       "3                                  Student      None       NaN  \n",
       "4                                  Student      None       NaN  "
      ]
     },
     "execution_count": 7,
     "metadata": {},
     "output_type": "execute_result"
    }
   ],
   "source": [
    "data.head()"
   ]
  },
  {
   "cell_type": "code",
   "execution_count": 9,
   "id": "e4e6ba63",
   "metadata": {},
   "outputs": [
    {
     "data": {
      "text/plain": [
       "(9728, 11)"
      ]
     },
     "execution_count": 9,
     "metadata": {},
     "output_type": "execute_result"
    }
   ],
   "source": [
    "data.shape"
   ]
  },
  {
   "cell_type": "code",
   "execution_count": 10,
   "id": "cda1ce8e",
   "metadata": {},
   "outputs": [
    {
     "data": {
      "text/html": [
       "<div>\n",
       "<style scoped>\n",
       "    .dataframe tbody tr th:only-of-type {\n",
       "        vertical-align: middle;\n",
       "    }\n",
       "\n",
       "    .dataframe tbody tr th {\n",
       "        vertical-align: top;\n",
       "    }\n",
       "\n",
       "    .dataframe thead th {\n",
       "        text-align: right;\n",
       "    }\n",
       "</style>\n",
       "<table border=\"1\" class=\"dataframe\">\n",
       "  <thead>\n",
       "    <tr style=\"text-align: right;\">\n",
       "      <th></th>\n",
       "      <th>House Number</th>\n",
       "      <th>Street</th>\n",
       "      <th>First Name</th>\n",
       "      <th>Surname</th>\n",
       "      <th>Age</th>\n",
       "      <th>Relationship to Head of House</th>\n",
       "      <th>Marital Status</th>\n",
       "      <th>Gender</th>\n",
       "      <th>Occupation</th>\n",
       "      <th>Infirmity</th>\n",
       "      <th>Religion</th>\n",
       "    </tr>\n",
       "  </thead>\n",
       "  <tbody>\n",
       "    <tr>\n",
       "      <th>0</th>\n",
       "      <td>1</td>\n",
       "      <td>Rhubarb Drive</td>\n",
       "      <td>Amy</td>\n",
       "      <td>Hall</td>\n",
       "      <td>41</td>\n",
       "      <td>Head</td>\n",
       "      <td>Single</td>\n",
       "      <td>Female</td>\n",
       "      <td>Drilling engineer</td>\n",
       "      <td>None</td>\n",
       "      <td>Catholic</td>\n",
       "    </tr>\n",
       "    <tr>\n",
       "      <th>1</th>\n",
       "      <td>1</td>\n",
       "      <td>Rhubarb Drive</td>\n",
       "      <td>Bruce</td>\n",
       "      <td>Murphy</td>\n",
       "      <td>49</td>\n",
       "      <td>Partner</td>\n",
       "      <td>Single</td>\n",
       "      <td>Male</td>\n",
       "      <td>Scientist, research (physical sciences)</td>\n",
       "      <td>None</td>\n",
       "      <td>Catholic</td>\n",
       "    </tr>\n",
       "    <tr>\n",
       "      <th>2</th>\n",
       "      <td>1</td>\n",
       "      <td>Rhubarb Drive</td>\n",
       "      <td>Billy</td>\n",
       "      <td>Hall</td>\n",
       "      <td>17</td>\n",
       "      <td>Son</td>\n",
       "      <td>NaN</td>\n",
       "      <td>Male</td>\n",
       "      <td>Student</td>\n",
       "      <td>None</td>\n",
       "      <td>NaN</td>\n",
       "    </tr>\n",
       "    <tr>\n",
       "      <th>3</th>\n",
       "      <td>1</td>\n",
       "      <td>Rhubarb Drive</td>\n",
       "      <td>Mary</td>\n",
       "      <td>Hall</td>\n",
       "      <td>15</td>\n",
       "      <td>Daughter</td>\n",
       "      <td>NaN</td>\n",
       "      <td>Female</td>\n",
       "      <td>Student</td>\n",
       "      <td>None</td>\n",
       "      <td>NaN</td>\n",
       "    </tr>\n",
       "    <tr>\n",
       "      <th>4</th>\n",
       "      <td>1</td>\n",
       "      <td>Rhubarb Drive</td>\n",
       "      <td>Elliott</td>\n",
       "      <td>Hall</td>\n",
       "      <td>13</td>\n",
       "      <td>Son</td>\n",
       "      <td>NaN</td>\n",
       "      <td>Male</td>\n",
       "      <td>Student</td>\n",
       "      <td>None</td>\n",
       "      <td>NaN</td>\n",
       "    </tr>\n",
       "    <tr>\n",
       "      <th>...</th>\n",
       "      <td>...</td>\n",
       "      <td>...</td>\n",
       "      <td>...</td>\n",
       "      <td>...</td>\n",
       "      <td>...</td>\n",
       "      <td>...</td>\n",
       "      <td>...</td>\n",
       "      <td>...</td>\n",
       "      <td>...</td>\n",
       "      <td>...</td>\n",
       "      <td>...</td>\n",
       "    </tr>\n",
       "    <tr>\n",
       "      <th>9723</th>\n",
       "      <td>1</td>\n",
       "      <td>Taylor Barracks</td>\n",
       "      <td>Anne</td>\n",
       "      <td>Turner</td>\n",
       "      <td>42</td>\n",
       "      <td>Head</td>\n",
       "      <td>Married</td>\n",
       "      <td>Female</td>\n",
       "      <td>Operational researcher</td>\n",
       "      <td>None</td>\n",
       "      <td>None</td>\n",
       "    </tr>\n",
       "    <tr>\n",
       "      <th>9724</th>\n",
       "      <td>1</td>\n",
       "      <td>Taylor Barracks</td>\n",
       "      <td>Graham</td>\n",
       "      <td>Turner-Rose</td>\n",
       "      <td>44</td>\n",
       "      <td>Husband</td>\n",
       "      <td>Married</td>\n",
       "      <td>Male</td>\n",
       "      <td>Presenter, broadcasting</td>\n",
       "      <td>None</td>\n",
       "      <td>None</td>\n",
       "    </tr>\n",
       "    <tr>\n",
       "      <th>9725</th>\n",
       "      <td>1</td>\n",
       "      <td>Taylor Barracks</td>\n",
       "      <td>William</td>\n",
       "      <td>Turner-Rose</td>\n",
       "      <td>20</td>\n",
       "      <td>Son</td>\n",
       "      <td>Single</td>\n",
       "      <td>Male</td>\n",
       "      <td>University Student</td>\n",
       "      <td>None</td>\n",
       "      <td>None</td>\n",
       "    </tr>\n",
       "    <tr>\n",
       "      <th>9726</th>\n",
       "      <td>1</td>\n",
       "      <td>Taylor Barracks</td>\n",
       "      <td>Rita</td>\n",
       "      <td>Turner-Rose</td>\n",
       "      <td>14</td>\n",
       "      <td>Daughter</td>\n",
       "      <td>NaN</td>\n",
       "      <td>Female</td>\n",
       "      <td>Student</td>\n",
       "      <td>None</td>\n",
       "      <td>NaN</td>\n",
       "    </tr>\n",
       "    <tr>\n",
       "      <th>9727</th>\n",
       "      <td>1</td>\n",
       "      <td>Taylor Barracks</td>\n",
       "      <td>Terry</td>\n",
       "      <td>Turner-Rose</td>\n",
       "      <td>12</td>\n",
       "      <td>Son</td>\n",
       "      <td>NaN</td>\n",
       "      <td>Male</td>\n",
       "      <td>Student</td>\n",
       "      <td>None</td>\n",
       "      <td>NaN</td>\n",
       "    </tr>\n",
       "  </tbody>\n",
       "</table>\n",
       "<p>9728 rows × 11 columns</p>\n",
       "</div>"
      ],
      "text/plain": [
       "      House Number           Street First Name      Surname Age  \\\n",
       "0                1    Rhubarb Drive        Amy         Hall  41   \n",
       "1                1    Rhubarb Drive      Bruce       Murphy  49   \n",
       "2                1    Rhubarb Drive      Billy         Hall  17   \n",
       "3                1    Rhubarb Drive       Mary         Hall  15   \n",
       "4                1    Rhubarb Drive    Elliott         Hall  13   \n",
       "...            ...              ...        ...          ...  ..   \n",
       "9723             1  Taylor Barracks       Anne       Turner  42   \n",
       "9724             1  Taylor Barracks     Graham  Turner-Rose  44   \n",
       "9725             1  Taylor Barracks    William  Turner-Rose  20   \n",
       "9726             1  Taylor Barracks       Rita  Turner-Rose  14   \n",
       "9727             1  Taylor Barracks      Terry  Turner-Rose  12   \n",
       "\n",
       "     Relationship to Head of House Marital Status  Gender  \\\n",
       "0                             Head         Single  Female   \n",
       "1                          Partner         Single    Male   \n",
       "2                              Son            NaN    Male   \n",
       "3                         Daughter            NaN  Female   \n",
       "4                              Son            NaN    Male   \n",
       "...                            ...            ...     ...   \n",
       "9723                          Head        Married  Female   \n",
       "9724                       Husband        Married    Male   \n",
       "9725                           Son         Single    Male   \n",
       "9726                      Daughter            NaN  Female   \n",
       "9727                           Son            NaN    Male   \n",
       "\n",
       "                                   Occupation Infirmity  Religion  \n",
       "0                           Drilling engineer      None  Catholic  \n",
       "1     Scientist, research (physical sciences)      None  Catholic  \n",
       "2                                     Student      None       NaN  \n",
       "3                                     Student      None       NaN  \n",
       "4                                     Student      None       NaN  \n",
       "...                                       ...       ...       ...  \n",
       "9723                   Operational researcher      None      None  \n",
       "9724                  Presenter, broadcasting      None      None  \n",
       "9725                       University Student      None      None  \n",
       "9726                                  Student      None       NaN  \n",
       "9727                                  Student      None       NaN  \n",
       "\n",
       "[9728 rows x 11 columns]"
      ]
     },
     "execution_count": 10,
     "metadata": {},
     "output_type": "execute_result"
    }
   ],
   "source": [
    "pd.options.display.max_rows = 50\n",
    "\n",
    "data"
   ]
  },
  {
   "cell_type": "code",
   "execution_count": 11,
   "id": "0b1a2486",
   "metadata": {},
   "outputs": [
    {
     "data": {
      "text/html": [
       "<div>\n",
       "<style scoped>\n",
       "    .dataframe tbody tr th:only-of-type {\n",
       "        vertical-align: middle;\n",
       "    }\n",
       "\n",
       "    .dataframe tbody tr th {\n",
       "        vertical-align: top;\n",
       "    }\n",
       "\n",
       "    .dataframe thead th {\n",
       "        text-align: right;\n",
       "    }\n",
       "</style>\n",
       "<table border=\"1\" class=\"dataframe\">\n",
       "  <thead>\n",
       "    <tr style=\"text-align: right;\">\n",
       "      <th></th>\n",
       "      <th>House Number</th>\n",
       "    </tr>\n",
       "  </thead>\n",
       "  <tbody>\n",
       "    <tr>\n",
       "      <th>count</th>\n",
       "      <td>9728.000000</td>\n",
       "    </tr>\n",
       "    <tr>\n",
       "      <th>mean</th>\n",
       "      <td>41.165090</td>\n",
       "    </tr>\n",
       "    <tr>\n",
       "      <th>std</th>\n",
       "      <td>47.339542</td>\n",
       "    </tr>\n",
       "    <tr>\n",
       "      <th>min</th>\n",
       "      <td>1.000000</td>\n",
       "    </tr>\n",
       "    <tr>\n",
       "      <th>25%</th>\n",
       "      <td>10.000000</td>\n",
       "    </tr>\n",
       "    <tr>\n",
       "      <th>50%</th>\n",
       "      <td>24.000000</td>\n",
       "    </tr>\n",
       "    <tr>\n",
       "      <th>75%</th>\n",
       "      <td>48.000000</td>\n",
       "    </tr>\n",
       "    <tr>\n",
       "      <th>max</th>\n",
       "      <td>230.000000</td>\n",
       "    </tr>\n",
       "  </tbody>\n",
       "</table>\n",
       "</div>"
      ],
      "text/plain": [
       "       House Number\n",
       "count   9728.000000\n",
       "mean      41.165090\n",
       "std       47.339542\n",
       "min        1.000000\n",
       "25%       10.000000\n",
       "50%       24.000000\n",
       "75%       48.000000\n",
       "max      230.000000"
      ]
     },
     "execution_count": 11,
     "metadata": {},
     "output_type": "execute_result"
    }
   ],
   "source": [
    "data.describe()"
   ]
  },
  {
   "cell_type": "code",
   "execution_count": 12,
   "id": "d2b50bbf",
   "metadata": {},
   "outputs": [
    {
     "name": "stdout",
     "output_type": "stream",
     "text": [
      "<class 'pandas.core.frame.DataFrame'>\n",
      "RangeIndex: 9728 entries, 0 to 9727\n",
      "Data columns (total 11 columns):\n",
      " #   Column                         Non-Null Count  Dtype \n",
      "---  ------                         --------------  ----- \n",
      " 0   House Number                   9728 non-null   int64 \n",
      " 1   Street                         9728 non-null   object\n",
      " 2   First Name                     9728 non-null   object\n",
      " 3   Surname                        9728 non-null   object\n",
      " 4   Age                            9728 non-null   object\n",
      " 5   Relationship to Head of House  9728 non-null   object\n",
      " 6   Marital Status                 7455 non-null   object\n",
      " 7   Gender                         9728 non-null   object\n",
      " 8   Occupation                     9728 non-null   object\n",
      " 9   Infirmity                      9728 non-null   object\n",
      " 10  Religion                       7386 non-null   object\n",
      "dtypes: int64(1), object(10)\n",
      "memory usage: 836.1+ KB\n"
     ]
    }
   ],
   "source": [
    "    data.info()"
   ]
  },
  {
   "cell_type": "code",
   "execution_count": 13,
   "id": "44548a00",
   "metadata": {},
   "outputs": [
    {
     "data": {
      "text/plain": [
       "House Number                        0\n",
       "Street                              0\n",
       "First Name                          0\n",
       "Surname                             0\n",
       "Age                                 0\n",
       "Relationship to Head of House       0\n",
       "Marital Status                   2273\n",
       "Gender                              0\n",
       "Occupation                          0\n",
       "Infirmity                           0\n",
       "Religion                         2342\n",
       "dtype: int64"
      ]
     },
     "execution_count": 13,
     "metadata": {},
     "output_type": "execute_result"
    }
   ],
   "source": [
    "data.isna().sum()"
   ]
  },
  {
   "cell_type": "code",
   "execution_count": 14,
   "id": "2d04868b",
   "metadata": {},
   "outputs": [
    {
     "name": "stdout",
     "output_type": "stream",
     "text": [
      "               House Number                                               \\\n",
      "                      count       mean        std  min   25%   50%   75%   \n",
      "Marital Status                                                             \n",
      "                        1.0   5.000000        NaN  5.0   5.0   5.0   5.0   \n",
      "Divorced              895.0  41.822346  47.370012  1.0  10.0  25.0  49.0   \n",
      "Married              2710.0  41.673801  47.754261  1.0  10.0  25.0  48.0   \n",
      "Single               3443.0  40.582922  47.268667  1.0  10.0  23.0  46.0   \n",
      "Widowed               406.0  37.201970  43.377910  1.0  10.0  23.0  41.0   \n",
      "\n",
      "                       \n",
      "                  max  \n",
      "Marital Status         \n",
      "                  5.0  \n",
      "Divorced        229.0  \n",
      "Married         230.0  \n",
      "Single          229.0  \n",
      "Widowed         218.0  \n"
     ]
    }
   ],
   "source": [
    "print(data.groupby('Marital Status').describe())"
   ]
  },
  {
   "cell_type": "code",
   "execution_count": 15,
   "id": "bbe711fc",
   "metadata": {},
   "outputs": [
    {
     "data": {
      "text/html": [
       "<div>\n",
       "<style scoped>\n",
       "    .dataframe tbody tr th:only-of-type {\n",
       "        vertical-align: middle;\n",
       "    }\n",
       "\n",
       "    .dataframe tbody tr th {\n",
       "        vertical-align: top;\n",
       "    }\n",
       "\n",
       "    .dataframe thead th {\n",
       "        text-align: right;\n",
       "    }\n",
       "</style>\n",
       "<table border=\"1\" class=\"dataframe\">\n",
       "  <thead>\n",
       "    <tr style=\"text-align: right;\">\n",
       "      <th></th>\n",
       "      <th>count</th>\n",
       "      <th>unique</th>\n",
       "      <th>top</th>\n",
       "      <th>freq</th>\n",
       "    </tr>\n",
       "    <tr>\n",
       "      <th>Marital Status</th>\n",
       "      <th></th>\n",
       "      <th></th>\n",
       "      <th></th>\n",
       "      <th></th>\n",
       "    </tr>\n",
       "  </thead>\n",
       "  <tbody>\n",
       "    <tr>\n",
       "      <th></th>\n",
       "      <td>1</td>\n",
       "      <td>1</td>\n",
       "      <td>12</td>\n",
       "      <td>1</td>\n",
       "    </tr>\n",
       "    <tr>\n",
       "      <th>Divorced</th>\n",
       "      <td>895</td>\n",
       "      <td>74</td>\n",
       "      <td>36</td>\n",
       "      <td>31</td>\n",
       "    </tr>\n",
       "    <tr>\n",
       "      <th>Married</th>\n",
       "      <td>2710</td>\n",
       "      <td>94</td>\n",
       "      <td>43</td>\n",
       "      <td>77</td>\n",
       "    </tr>\n",
       "    <tr>\n",
       "      <th>Single</th>\n",
       "      <td>3443</td>\n",
       "      <td>73</td>\n",
       "      <td>18</td>\n",
       "      <td>130</td>\n",
       "    </tr>\n",
       "    <tr>\n",
       "      <th>Widowed</th>\n",
       "      <td>406</td>\n",
       "      <td>78</td>\n",
       "      <td>67</td>\n",
       "      <td>21</td>\n",
       "    </tr>\n",
       "  </tbody>\n",
       "</table>\n",
       "</div>"
      ],
      "text/plain": [
       "               count unique top freq\n",
       "Marital Status                      \n",
       "                   1      1  12    1\n",
       "Divorced         895     74  36   31\n",
       "Married         2710     94  43   77\n",
       "Single          3443     73  18  130\n",
       "Widowed          406     78  67   21"
      ]
     },
     "execution_count": 15,
     "metadata": {},
     "output_type": "execute_result"
    }
   ],
   "source": [
    "data.groupby(['Marital Status']).Age.describe()"
   ]
  },
  {
   "cell_type": "code",
   "execution_count": 16,
   "id": "9366c893",
   "metadata": {},
   "outputs": [
    {
     "data": {
      "text/plain": [
       "House Number                     9728\n",
       "Street                           9728\n",
       "First Name                       9728\n",
       "Surname                          9728\n",
       "Age                              9728\n",
       "Relationship to Head of House    9728\n",
       "Marital Status                   7455\n",
       "Gender                           9728\n",
       "Occupation                       9728\n",
       "Infirmity                        9728\n",
       "Religion                         7386\n",
       "dtype: int64"
      ]
     },
     "execution_count": 16,
     "metadata": {},
     "output_type": "execute_result"
    }
   ],
   "source": [
    "data.count()"
   ]
  },
  {
   "cell_type": "code",
   "execution_count": 17,
   "id": "6b99114c",
   "metadata": {},
   "outputs": [
    {
     "data": {
      "text/plain": [
       "array([  1,   2,   3,   4,   5,   6,   7,   8,   9,  10,  11,  12,  13,\n",
       "        14,  15,  16,  17,  18,  19,  20,  21,  22,  23,  24,  25,  26,\n",
       "        27,  28,  29,  30,  31,  32,  33,  34,  35,  36,  37,  38,  39,\n",
       "        40,  41,  42,  43,  44,  45,  46,  47,  48,  49,  50,  51,  52,\n",
       "        53,  54,  55,  56,  57,  58,  59,  60,  61,  62,  63,  64,  65,\n",
       "        66,  67,  68,  69,  70,  71,  72,  73,  74,  75,  76,  77,  78,\n",
       "        79,  80,  81,  82,  83,  84,  85,  86,  87,  88,  89,  90,  91,\n",
       "        92,  93,  94,  95,  96,  97,  98,  99, 100, 101, 102, 103, 104,\n",
       "       105, 106, 107, 108, 109, 110, 111, 112, 113, 114, 115, 116, 117,\n",
       "       118, 119, 120, 121, 122, 123, 124, 125, 126, 127, 128, 129, 130,\n",
       "       131, 132, 133, 134, 135, 136, 137, 138, 139, 140, 141, 142, 143,\n",
       "       144, 145, 146, 147, 148, 149, 150, 151, 152, 153, 154, 155, 156,\n",
       "       157, 158, 159, 160, 161, 162, 163, 164, 165, 166, 167, 168, 169,\n",
       "       170, 171, 172, 173, 174, 175, 176, 177, 178, 179, 180, 181, 182,\n",
       "       183, 184, 185, 186, 187, 188, 189, 190, 191, 192, 193, 194, 195,\n",
       "       196, 197, 198, 199, 200, 201, 202, 203, 204, 205, 206, 207, 208,\n",
       "       209, 210, 211, 212, 213, 214, 215, 216, 217, 218, 219, 220, 221,\n",
       "       222, 223, 224, 225, 226, 227, 228, 229, 230], dtype=int64)"
      ]
     },
     "execution_count": 17,
     "metadata": {},
     "output_type": "execute_result"
    }
   ],
   "source": [
    "data['House Number'].unique()"
   ]
  },
  {
   "cell_type": "code",
   "execution_count": 21,
   "id": "a35edeac",
   "metadata": {},
   "outputs": [
    {
     "data": {
      "text/plain": [
       "array(['Rhubarb Drive', 'Moran Mission', 'Laurelline Street',\n",
       "       'Wallis Rapids', 'West Lane', 'Testamentrigg Road', 'Pisces Road',\n",
       "       'Winterbarrier Street', 'Willis Springs', 'Inner Street',\n",
       "       'Protectoratearch Road', 'Squirrel Plains', 'Richardson Street',\n",
       "       'Cancer Lane', 'Armagh Crescent', 'Mitchell Loaf', 'Tiger Point',\n",
       "       'Mill Drive', 'Wright Common', 'Love Square', 'Webb Parkway',\n",
       "       'Chelmsfordshot Street', 'Orchard Crescent', 'Taylor Wall',\n",
       "       'Gwent Crossing', 'Anvil Crescent', 'Farthing Avenue',\n",
       "       'Coin Street', 'Green Squares', 'Martin Path', 'Apricot Rapids',\n",
       "       'Kelly Shoals', 'Taurus Lodge', 'Bletchley Lodge',\n",
       "       'Taylor Islands', 'London Avenue', 'Egbert Key',\n",
       "       'CherryChestnut Street', 'Rhubarb Tunnel', 'Perth Lane',\n",
       "       'Brightonshot Lane', 'Marsh Lights', 'Silver Road', 'Dale Glens',\n",
       "       'Smith Mountain', 'Arthur Street', 'Walsh Prairie', 'Kaur Square',\n",
       "       'Kelly Dale', 'Singh Plaza', 'Horse Village', 'Cook Plaza',\n",
       "       'Metcalfe Forks', 'Sagittariusdike Avenue', 'Brick Crescent',\n",
       "       'Horseshoe Drive', 'Ahmed Drive', 'Miller Crescent',\n",
       "       'Appletree Heights', 'Beech Drive', 'Bank Street',\n",
       "       'Poundsalt Crescent', 'Ford Oval', 'Bath Drive', 'Daniels Green',\n",
       "       'Harris Harbor', 'Duffy Hollow', 'Guild Tunnel', 'Thistle Court',\n",
       "       'Bailey Glen', 'Severn Plain', 'McLean Street', 'Taurus Drive',\n",
       "       'Chester Road', 'Conifer Drive', 'Corporation Road', 'King Walks',\n",
       "       'St.Luke Locks', 'Willis Avenue', 'Woods Courts', 'Roberts Drives',\n",
       "       'Taurus Garden', 'Eastdeal Lane', 'Iqbal Shoals', 'Allen Forks',\n",
       "       'Hunters Parkway', 'Bank Burg', 'Peel Spring', 'Reynolds Highway',\n",
       "       'ExcaliburBells Dam', 'Repton Stronghold', 'Knowles Tower',\n",
       "       'Thomas Haven', 'Hope Folly', 'September Delve',\n",
       "       'Bishop Obervatory', 'Marsh Hold', 'John Manorhouse', 'Smith Barn',\n",
       "       'Woodward Cabin', 'Fox Windmill', 'Solstice Tower', 'Beech Villa',\n",
       "       'Stephens Rectory', 'Taylor Barracks'], dtype=object)"
      ]
     },
     "execution_count": 21,
     "metadata": {},
     "output_type": "execute_result"
    }
   ],
   "source": [
    "data['Street'].unique()"
   ]
  },
  {
   "cell_type": "code",
   "execution_count": 22,
   "id": "9c7adb14",
   "metadata": {},
   "outputs": [
    {
     "data": {
      "text/plain": [
       "Green Squares        709\n",
       "Cook Plaza           689\n",
       "Willis Avenue        584\n",
       "Wallis Rapids        503\n",
       "Richardson Street    410\n",
       "                    ... \n",
       "September Delve        5\n",
       "Marsh Hold             5\n",
       "Stephens Rectory       5\n",
       "Taylor Barracks        5\n",
       "Repton Stronghold      2\n",
       "Name: Street, Length: 105, dtype: int64"
      ]
     },
     "execution_count": 22,
     "metadata": {},
     "output_type": "execute_result"
    }
   ],
   "source": [
    "data['Street'].value_counts()"
   ]
  },
  {
   "cell_type": "code",
   "execution_count": 23,
   "id": "58dfe1f6",
   "metadata": {},
   "outputs": [
    {
     "data": {
      "text/plain": [
       "array(['41', '49', '17', '15', '13', '7', '6', '5', '4', '2', '58', '33',\n",
       "       '26', '36', '47', '51', '19', '42', '44', '8', '0', '60', '56',\n",
       "       '12', '46', '30', '76', '64', '63', '62', '53', '45', '37', '10',\n",
       "       '24', '3', '57', '39', '29', '27', '59', '20', '32', '18', '34',\n",
       "       '21', '11', '52', '50', '85', '87', '9', '61', '35', '31', '23',\n",
       "       '48', '73', '25', '88', '90', '28', '71', '69', '54', '22', '68',\n",
       "       '16', '55', '67', '91', '43', '40', '38', '1', '81', '79', '14',\n",
       "       '70', '77', '72', '66', '65', '84', '78', '100', '92', '93', '74',\n",
       "       '83', '75', '105', '82', '89', '86', '103', '80', '96', '102',\n",
       "       '98', '97', '95.20845345950883', '97.20845345950883',\n",
       "       '46.99999999999999', '104', '110', '101', '99',\n",
       "       '50.68642589738663', '0.0', '71.70511965460919',\n",
       "       '74.70511965460919', '13.0', '84.3600933267044', ' ',\n",
       "       '78.78623363918231', '30.0', '27.0', '24.0', '94', '109'],\n",
       "      dtype=object)"
      ]
     },
     "execution_count": 23,
     "metadata": {},
     "output_type": "execute_result"
    }
   ],
   "source": [
    "data['Age'].unique()"
   ]
  },
  {
   "cell_type": "code",
   "execution_count": 30,
   "id": "d8292b9a",
   "metadata": {},
   "outputs": [],
   "source": [
    "data['Age'] = data['Age'].replace(['95.20845345950883', '97.20845345950883', '46.99999999999999','50.68642589738663','0.0','71.70511965460919',  '74.70511965460919','13.0', '84.3600933267044','78.78623363918231', '30.0',' ', '27.0', '24.0'], \" \")"
   ]
  },
  {
   "cell_type": "code",
   "execution_count": 31,
   "id": "2f67c8ac",
   "metadata": {},
   "outputs": [
    {
     "data": {
      "text/plain": [
       "array(['41', '49', '17', '15', '13', '7', '6', '5', '4', '2', '58', '33',\n",
       "       '26', '36', '47', '51', '19', '42', '44', '8', '0', '60', '56',\n",
       "       '12', '46', '30', '76', '64', '63', '62', '53', '45', '37', '10',\n",
       "       '24', '3', '57', '39', '29', '27', '59', '20', '32', '18', '34',\n",
       "       '21', '11', '52', '50', '85', '87', '9', '61', '35', '31', '23',\n",
       "       '48', '73', '25', '88', '90', '28', '71', '69', '54', '22', '68',\n",
       "       '16', '55', '67', '91', '43', '40', '38', '1', '81', '79', '14',\n",
       "       '70', '77', '72', '66', '65', '84', '78', '100', '92', '93', '74',\n",
       "       '83', '75', '105', '82', '89', '86', '103', '80', '96', '102',\n",
       "       '98', '97', ' ', '104', '110', '101', '99', '94', '109'],\n",
       "      dtype=object)"
      ]
     },
     "execution_count": 31,
     "metadata": {},
     "output_type": "execute_result"
    }
   ],
   "source": [
    "data['Age'].unique()"
   ]
  },
  {
   "cell_type": "code",
   "execution_count": 32,
   "id": "0e513778",
   "metadata": {},
   "outputs": [],
   "source": [
    "data['Age'].replace([\" \",\" median age\"],inplace = True)"
   ]
  },
  {
   "cell_type": "code",
   "execution_count": 33,
   "id": "87f05e6e",
   "metadata": {},
   "outputs": [
    {
     "data": {
      "text/plain": [
       "array(['41', '49', '17', '15', '13', '7', '6', '5', '4', '2', '58', '33',\n",
       "       '26', '36', '47', '51', '19', '42', '44', '8', '0', '60', '56',\n",
       "       '12', '46', '30', '76', '64', '63', '62', '53', '45', '37', '10',\n",
       "       '24', '3', '57', '39', '29', '27', '59', '20', '32', '18', '34',\n",
       "       '21', '11', '52', '50', '85', '87', '9', '61', '35', '31', '23',\n",
       "       '48', '73', '25', '88', '90', '28', '71', '69', '54', '22', '68',\n",
       "       '16', '55', '67', '91', '43', '40', '38', '1', '81', '79', '14',\n",
       "       '70', '77', '72', '66', '65', '84', '78', '100', '92', '93', '74',\n",
       "       '83', '75', '105', '82', '89', '86', '103', '80', '96', '102',\n",
       "       '98', '97', '104', '110', '101', '99', '94', '109'], dtype=object)"
      ]
     },
     "execution_count": 33,
     "metadata": {},
     "output_type": "execute_result"
    }
   ],
   "source": [
    "data['Age'].unique()"
   ]
  },
  {
   "cell_type": "code",
   "execution_count": 35,
   "id": "299190f9",
   "metadata": {},
   "outputs": [],
   "source": [
    "data['Age'] = data['Age'].astype(\"int64\")"
   ]
  },
  {
   "cell_type": "code",
   "execution_count": 36,
   "id": "53cf04b5",
   "metadata": {},
   "outputs": [
    {
     "name": "stdout",
     "output_type": "stream",
     "text": [
      "House Number                      int64\n",
      "Street                           object\n",
      "First Name                       object\n",
      "Surname                          object\n",
      "Age                               int64\n",
      "Relationship to Head of House    object\n",
      "Marital Status                   object\n",
      "Gender                           object\n",
      "Occupation                       object\n",
      "Infirmity                        object\n",
      "Religion                         object\n",
      "dtype: object\n"
     ]
    }
   ],
   "source": [
    "print(data.dtypes)"
   ]
  },
  {
   "cell_type": "code",
   "execution_count": 37,
   "id": "692c09f1",
   "metadata": {},
   "outputs": [
    {
     "data": {
      "text/plain": [
       "array(['Head', 'Partner', 'Son', 'Daughter', 'None', 'Husband', 'Wife',\n",
       "       'Grandson', 'Granddaughter', 'Lodger', 'Cousin',\n",
       "       'Adopted Grandson', 'Sibling', 'Visitor', 'Adopted Son', 'Neice',\n",
       "       'Adopted Granddaughter', 'Nephew', 'Adopted Daughter',\n",
       "       'Step-Daughter', 'Step-Son', ' '], dtype=object)"
      ]
     },
     "execution_count": 37,
     "metadata": {},
     "output_type": "execute_result"
    }
   ],
   "source": [
    "data['Relationship to Head of House'].unique()"
   ]
  },
  {
   "cell_type": "code",
   "execution_count": 38,
   "id": "3a1a9913",
   "metadata": {},
   "outputs": [],
   "source": [
    "data['Relationship to Head of House'] = data['Relationship to Head of House'].replace([\" \",None])"
   ]
  },
  {
   "cell_type": "code",
   "execution_count": 39,
   "id": "23c48748",
   "metadata": {},
   "outputs": [
    {
     "data": {
      "text/plain": [
       "array(['Head', 'Partner', 'Son', 'Daughter', 'None', 'Husband', 'Wife',\n",
       "       'Grandson', 'Granddaughter', 'Lodger', 'Cousin',\n",
       "       'Adopted Grandson', 'Sibling', 'Visitor', 'Adopted Son', 'Neice',\n",
       "       'Adopted Granddaughter', 'Nephew', 'Adopted Daughter',\n",
       "       'Step-Daughter', 'Step-Son'], dtype=object)"
      ]
     },
     "execution_count": 39,
     "metadata": {},
     "output_type": "execute_result"
    }
   ],
   "source": [
    "data['Relationship to Head of House'].unique()"
   ]
  },
  {
   "cell_type": "code",
   "execution_count": 40,
   "id": "f3457258",
   "metadata": {},
   "outputs": [
    {
     "data": {
      "text/plain": [
       "array(['Single', nan, 'Married', 'Widowed', 'Divorced', ' '], dtype=object)"
      ]
     },
     "execution_count": 40,
     "metadata": {},
     "output_type": "execute_result"
    }
   ],
   "source": [
    "data['Marital Status'].unique()"
   ]
  },
  {
   "cell_type": "code",
   "execution_count": 41,
   "id": "a9ced7f1",
   "metadata": {},
   "outputs": [],
   "source": [
    "data['Marital Status'] = data['Marital Status'].replace([\" \"],np.nan)"
   ]
  },
  {
   "cell_type": "code",
   "execution_count": 42,
   "id": "7959664e",
   "metadata": {},
   "outputs": [
    {
     "data": {
      "text/plain": [
       "array(['Single', nan, 'Married', 'Widowed', 'Divorced'], dtype=object)"
      ]
     },
     "execution_count": 42,
     "metadata": {},
     "output_type": "execute_result"
    }
   ],
   "source": [
    "data['Marital Status'].unique()"
   ]
  },
  {
   "cell_type": "code",
   "execution_count": 45,
   "id": "c10c56e8",
   "metadata": {},
   "outputs": [],
   "source": [
    "filt = data['Marital Status'].isna()\n",
    "marital_data = data[filt]"
   ]
  },
  {
   "cell_type": "code",
   "execution_count": 46,
   "id": "53bb279e",
   "metadata": {},
   "outputs": [
    {
     "data": {
      "text/plain": [
       "array(['Student', 'Child'], dtype=object)"
      ]
     },
     "execution_count": 46,
     "metadata": {},
     "output_type": "execute_result"
    }
   ],
   "source": [
    "marital_data[\"Occupation\"].unique()"
   ]
  },
  {
   "cell_type": "code",
   "execution_count": 47,
   "id": "257640a8",
   "metadata": {},
   "outputs": [
    {
     "data": {
      "text/plain": [
       "array([17, 15, 13,  7,  6,  5,  4,  2,  8,  0, 12, 10,  3, 11,  9, 16,  1,\n",
       "       14, 60, 18], dtype=int64)"
      ]
     },
     "execution_count": 47,
     "metadata": {},
     "output_type": "execute_result"
    }
   ],
   "source": [
    "marital_data[\"Age\"].unique()"
   ]
  },
  {
   "cell_type": "code",
   "execution_count": 49,
   "id": "caa5b794",
   "metadata": {},
   "outputs": [
    {
     "data": {
      "text/html": [
       "<div>\n",
       "<style scoped>\n",
       "    .dataframe tbody tr th:only-of-type {\n",
       "        vertical-align: middle;\n",
       "    }\n",
       "\n",
       "    .dataframe tbody tr th {\n",
       "        vertical-align: top;\n",
       "    }\n",
       "\n",
       "    .dataframe thead th {\n",
       "        text-align: right;\n",
       "    }\n",
       "</style>\n",
       "<table border=\"1\" class=\"dataframe\">\n",
       "  <thead>\n",
       "    <tr style=\"text-align: right;\">\n",
       "      <th></th>\n",
       "      <th>Marital Status</th>\n",
       "      <th>Occupation</th>\n",
       "    </tr>\n",
       "  </thead>\n",
       "  <tbody>\n",
       "    <tr>\n",
       "      <th>0</th>\n",
       "      <td>Single</td>\n",
       "      <td>Drilling engineer</td>\n",
       "    </tr>\n",
       "    <tr>\n",
       "      <th>1</th>\n",
       "      <td>Single</td>\n",
       "      <td>Scientist, research (physical sciences)</td>\n",
       "    </tr>\n",
       "    <tr>\n",
       "      <th>2</th>\n",
       "      <td>NaN</td>\n",
       "      <td>Student</td>\n",
       "    </tr>\n",
       "    <tr>\n",
       "      <th>3</th>\n",
       "      <td>NaN</td>\n",
       "      <td>Student</td>\n",
       "    </tr>\n",
       "    <tr>\n",
       "      <th>4</th>\n",
       "      <td>NaN</td>\n",
       "      <td>Student</td>\n",
       "    </tr>\n",
       "    <tr>\n",
       "      <th>...</th>\n",
       "      <td>...</td>\n",
       "      <td>...</td>\n",
       "    </tr>\n",
       "    <tr>\n",
       "      <th>9723</th>\n",
       "      <td>Married</td>\n",
       "      <td>Operational researcher</td>\n",
       "    </tr>\n",
       "    <tr>\n",
       "      <th>9724</th>\n",
       "      <td>Married</td>\n",
       "      <td>Presenter, broadcasting</td>\n",
       "    </tr>\n",
       "    <tr>\n",
       "      <th>9725</th>\n",
       "      <td>Single</td>\n",
       "      <td>University Student</td>\n",
       "    </tr>\n",
       "    <tr>\n",
       "      <th>9726</th>\n",
       "      <td>NaN</td>\n",
       "      <td>Student</td>\n",
       "    </tr>\n",
       "    <tr>\n",
       "      <th>9727</th>\n",
       "      <td>NaN</td>\n",
       "      <td>Student</td>\n",
       "    </tr>\n",
       "  </tbody>\n",
       "</table>\n",
       "<p>9728 rows × 2 columns</p>\n",
       "</div>"
      ],
      "text/plain": [
       "     Marital Status                               Occupation\n",
       "0            Single                        Drilling engineer\n",
       "1            Single  Scientist, research (physical sciences)\n",
       "2               NaN                                  Student\n",
       "3               NaN                                  Student\n",
       "4               NaN                                  Student\n",
       "...             ...                                      ...\n",
       "9723        Married                   Operational researcher\n",
       "9724        Married                  Presenter, broadcasting\n",
       "9725         Single                       University Student\n",
       "9726            NaN                                  Student\n",
       "9727            NaN                                  Student\n",
       "\n",
       "[9728 rows x 2 columns]"
      ]
     },
     "execution_count": 49,
     "metadata": {},
     "output_type": "execute_result"
    }
   ],
   "source": [
    "df = data[[\"Marital Status\",\"Occupation\"]]\n",
    "df"
   ]
  },
  {
   "cell_type": "code",
   "execution_count": 50,
   "id": "fd9e953d",
   "metadata": {},
   "outputs": [],
   "source": [
    "data['Marital Status'].replace([np.nan,'Single'],inplace= True)"
   ]
  },
  {
   "cell_type": "code",
   "execution_count": 51,
   "id": "a81bda73",
   "metadata": {},
   "outputs": [
    {
     "data": {
      "text/plain": [
       "array(['Single', 'Married', 'Widowed', 'Divorced'], dtype=object)"
      ]
     },
     "execution_count": 51,
     "metadata": {},
     "output_type": "execute_result"
    }
   ],
   "source": [
    "data['Marital Status'].unique()"
   ]
  },
  {
   "cell_type": "code",
   "execution_count": 64,
   "id": "a13f34d4",
   "metadata": {},
   "outputs": [],
   "source": [
    "# data[[data['Age']==60] & [data['Marital Status']=='Single']]"
   ]
  },
  {
   "cell_type": "code",
   "execution_count": 53,
   "id": "bad39651",
   "metadata": {},
   "outputs": [
    {
     "data": {
      "text/plain": [
       "array(['Female', 'Male', ' '], dtype=object)"
      ]
     },
     "execution_count": 53,
     "metadata": {},
     "output_type": "execute_result"
    }
   ],
   "source": [
    "data['Gender'].unique()"
   ]
  },
  {
   "cell_type": "code",
   "execution_count": 55,
   "id": "4796406f",
   "metadata": {},
   "outputs": [],
   "source": [
    "data['Gender'].replace([\" \",\"Un-Stated\"], inplace = True)"
   ]
  },
  {
   "cell_type": "code",
   "execution_count": 56,
   "id": "92dc1cae",
   "metadata": {},
   "outputs": [
    {
     "data": {
      "text/plain": [
       "array(['Female', 'Male'], dtype=object)"
      ]
     },
     "execution_count": 56,
     "metadata": {},
     "output_type": "execute_result"
    }
   ],
   "source": [
    "data['Gender'].unique()"
   ]
  },
  {
   "cell_type": "code",
   "execution_count": 68,
   "id": "205fa239",
   "metadata": {},
   "outputs": [
    {
     "data": {
      "text/html": [
       "<div>\n",
       "<style scoped>\n",
       "    .dataframe tbody tr th:only-of-type {\n",
       "        vertical-align: middle;\n",
       "    }\n",
       "\n",
       "    .dataframe tbody tr th {\n",
       "        vertical-align: top;\n",
       "    }\n",
       "\n",
       "    .dataframe thead th {\n",
       "        text-align: right;\n",
       "    }\n",
       "</style>\n",
       "<table border=\"1\" class=\"dataframe\">\n",
       "  <thead>\n",
       "    <tr style=\"text-align: right;\">\n",
       "      <th></th>\n",
       "      <th>House Number</th>\n",
       "      <th>Street</th>\n",
       "      <th>First Name</th>\n",
       "      <th>Surname</th>\n",
       "      <th>Age</th>\n",
       "      <th>Relationship to Head of House</th>\n",
       "      <th>Marital Status</th>\n",
       "      <th>Gender</th>\n",
       "      <th>Occupation</th>\n",
       "      <th>Infirmity</th>\n",
       "      <th>Religion</th>\n",
       "    </tr>\n",
       "  </thead>\n",
       "  <tbody>\n",
       "    <tr>\n",
       "      <th>0</th>\n",
       "      <td>1</td>\n",
       "      <td>Rhubarb Drive</td>\n",
       "      <td>Amy</td>\n",
       "      <td>Hall</td>\n",
       "      <td>41</td>\n",
       "      <td>Head</td>\n",
       "      <td>Single</td>\n",
       "      <td>Female</td>\n",
       "      <td>Drilling engineer</td>\n",
       "      <td>None</td>\n",
       "      <td>Catholic</td>\n",
       "    </tr>\n",
       "    <tr>\n",
       "      <th>1</th>\n",
       "      <td>1</td>\n",
       "      <td>Rhubarb Drive</td>\n",
       "      <td>Bruce</td>\n",
       "      <td>Murphy</td>\n",
       "      <td>49</td>\n",
       "      <td>Partner</td>\n",
       "      <td>Single</td>\n",
       "      <td>Male</td>\n",
       "      <td>Scientist, research (physical sciences)</td>\n",
       "      <td>None</td>\n",
       "      <td>Catholic</td>\n",
       "    </tr>\n",
       "    <tr>\n",
       "      <th>2</th>\n",
       "      <td>1</td>\n",
       "      <td>Rhubarb Drive</td>\n",
       "      <td>Billy</td>\n",
       "      <td>Hall</td>\n",
       "      <td>17</td>\n",
       "      <td>Son</td>\n",
       "      <td>Single</td>\n",
       "      <td>Male</td>\n",
       "      <td>Student</td>\n",
       "      <td>None</td>\n",
       "      <td>NaN</td>\n",
       "    </tr>\n",
       "    <tr>\n",
       "      <th>3</th>\n",
       "      <td>1</td>\n",
       "      <td>Rhubarb Drive</td>\n",
       "      <td>Mary</td>\n",
       "      <td>Hall</td>\n",
       "      <td>15</td>\n",
       "      <td>Daughter</td>\n",
       "      <td>Single</td>\n",
       "      <td>Female</td>\n",
       "      <td>Student</td>\n",
       "      <td>None</td>\n",
       "      <td>NaN</td>\n",
       "    </tr>\n",
       "    <tr>\n",
       "      <th>4</th>\n",
       "      <td>1</td>\n",
       "      <td>Rhubarb Drive</td>\n",
       "      <td>Elliott</td>\n",
       "      <td>Hall</td>\n",
       "      <td>13</td>\n",
       "      <td>Son</td>\n",
       "      <td>Single</td>\n",
       "      <td>Male</td>\n",
       "      <td>Student</td>\n",
       "      <td>None</td>\n",
       "      <td>NaN</td>\n",
       "    </tr>\n",
       "    <tr>\n",
       "      <th>5</th>\n",
       "      <td>1</td>\n",
       "      <td>Rhubarb Drive</td>\n",
       "      <td>Clifford</td>\n",
       "      <td>Hall</td>\n",
       "      <td>7</td>\n",
       "      <td>Son</td>\n",
       "      <td>Single</td>\n",
       "      <td>Male</td>\n",
       "      <td>Student</td>\n",
       "      <td>None</td>\n",
       "      <td>NaN</td>\n",
       "    </tr>\n",
       "    <tr>\n",
       "      <th>6</th>\n",
       "      <td>1</td>\n",
       "      <td>Rhubarb Drive</td>\n",
       "      <td>Kirsty</td>\n",
       "      <td>Hall</td>\n",
       "      <td>6</td>\n",
       "      <td>Daughter</td>\n",
       "      <td>Single</td>\n",
       "      <td>Female</td>\n",
       "      <td>Student</td>\n",
       "      <td>None</td>\n",
       "      <td>NaN</td>\n",
       "    </tr>\n",
       "    <tr>\n",
       "      <th>7</th>\n",
       "      <td>1</td>\n",
       "      <td>Rhubarb Drive</td>\n",
       "      <td>Nathan</td>\n",
       "      <td>Hall</td>\n",
       "      <td>5</td>\n",
       "      <td>Son</td>\n",
       "      <td>Single</td>\n",
       "      <td>Male</td>\n",
       "      <td>Student</td>\n",
       "      <td>None</td>\n",
       "      <td>NaN</td>\n",
       "    </tr>\n",
       "    <tr>\n",
       "      <th>8</th>\n",
       "      <td>1</td>\n",
       "      <td>Rhubarb Drive</td>\n",
       "      <td>Sophie</td>\n",
       "      <td>Hall</td>\n",
       "      <td>4</td>\n",
       "      <td>Daughter</td>\n",
       "      <td>Single</td>\n",
       "      <td>Female</td>\n",
       "      <td>Child</td>\n",
       "      <td>None</td>\n",
       "      <td>NaN</td>\n",
       "    </tr>\n",
       "    <tr>\n",
       "      <th>9</th>\n",
       "      <td>1</td>\n",
       "      <td>Rhubarb Drive</td>\n",
       "      <td>Sarah</td>\n",
       "      <td>Hall</td>\n",
       "      <td>2</td>\n",
       "      <td>Daughter</td>\n",
       "      <td>Single</td>\n",
       "      <td>Female</td>\n",
       "      <td>Child</td>\n",
       "      <td>None</td>\n",
       "      <td>NaN</td>\n",
       "    </tr>\n",
       "    <tr>\n",
       "      <th>10</th>\n",
       "      <td>2</td>\n",
       "      <td>Rhubarb Drive</td>\n",
       "      <td>Terry</td>\n",
       "      <td>Doherty</td>\n",
       "      <td>58</td>\n",
       "      <td>Head</td>\n",
       "      <td>Single</td>\n",
       "      <td>Male</td>\n",
       "      <td>Arts administrator</td>\n",
       "      <td>None</td>\n",
       "      <td>Christian</td>\n",
       "    </tr>\n",
       "    <tr>\n",
       "      <th>11</th>\n",
       "      <td>2</td>\n",
       "      <td>Rhubarb Drive</td>\n",
       "      <td>Raymond</td>\n",
       "      <td>Carter</td>\n",
       "      <td>33</td>\n",
       "      <td>None</td>\n",
       "      <td>Single</td>\n",
       "      <td>Male</td>\n",
       "      <td>Electrical engineer</td>\n",
       "      <td>None</td>\n",
       "      <td>None</td>\n",
       "    </tr>\n",
       "    <tr>\n",
       "      <th>12</th>\n",
       "      <td>2</td>\n",
       "      <td>Rhubarb Drive</td>\n",
       "      <td>Ryan</td>\n",
       "      <td>Farrell</td>\n",
       "      <td>26</td>\n",
       "      <td>None</td>\n",
       "      <td>Single</td>\n",
       "      <td>Male</td>\n",
       "      <td>Psychologist, occupational</td>\n",
       "      <td>None</td>\n",
       "      <td>None</td>\n",
       "    </tr>\n",
       "    <tr>\n",
       "      <th>13</th>\n",
       "      <td>2</td>\n",
       "      <td>Rhubarb Drive</td>\n",
       "      <td>Bethany</td>\n",
       "      <td>Jones</td>\n",
       "      <td>36</td>\n",
       "      <td>None</td>\n",
       "      <td>Single</td>\n",
       "      <td>Female</td>\n",
       "      <td>Surveyor, land/geomatics</td>\n",
       "      <td>None</td>\n",
       "      <td>Catholic</td>\n",
       "    </tr>\n",
       "    <tr>\n",
       "      <th>14</th>\n",
       "      <td>2</td>\n",
       "      <td>Rhubarb Drive</td>\n",
       "      <td>Kieran</td>\n",
       "      <td>Wood</td>\n",
       "      <td>47</td>\n",
       "      <td>None</td>\n",
       "      <td>Single</td>\n",
       "      <td>Male</td>\n",
       "      <td>Programme researcher, broadcasting/film/video</td>\n",
       "      <td>None</td>\n",
       "      <td>Catholic</td>\n",
       "    </tr>\n",
       "  </tbody>\n",
       "</table>\n",
       "</div>"
      ],
      "text/plain": [
       "    House Number         Street First Name  Surname  Age  \\\n",
       "0              1  Rhubarb Drive        Amy     Hall   41   \n",
       "1              1  Rhubarb Drive      Bruce   Murphy   49   \n",
       "2              1  Rhubarb Drive      Billy     Hall   17   \n",
       "3              1  Rhubarb Drive       Mary     Hall   15   \n",
       "4              1  Rhubarb Drive    Elliott     Hall   13   \n",
       "5              1  Rhubarb Drive   Clifford     Hall    7   \n",
       "6              1  Rhubarb Drive     Kirsty     Hall    6   \n",
       "7              1  Rhubarb Drive     Nathan     Hall    5   \n",
       "8              1  Rhubarb Drive     Sophie     Hall    4   \n",
       "9              1  Rhubarb Drive      Sarah     Hall    2   \n",
       "10             2  Rhubarb Drive      Terry  Doherty   58   \n",
       "11             2  Rhubarb Drive    Raymond   Carter   33   \n",
       "12             2  Rhubarb Drive       Ryan  Farrell   26   \n",
       "13             2  Rhubarb Drive    Bethany    Jones   36   \n",
       "14             2  Rhubarb Drive     Kieran     Wood   47   \n",
       "\n",
       "   Relationship to Head of House Marital Status  Gender  \\\n",
       "0                           Head         Single  Female   \n",
       "1                        Partner         Single    Male   \n",
       "2                            Son         Single    Male   \n",
       "3                       Daughter         Single  Female   \n",
       "4                            Son         Single    Male   \n",
       "5                            Son         Single    Male   \n",
       "6                       Daughter         Single  Female   \n",
       "7                            Son         Single    Male   \n",
       "8                       Daughter         Single  Female   \n",
       "9                       Daughter         Single  Female   \n",
       "10                          Head         Single    Male   \n",
       "11                          None         Single    Male   \n",
       "12                          None         Single    Male   \n",
       "13                          None         Single  Female   \n",
       "14                          None         Single    Male   \n",
       "\n",
       "                                       Occupation Infirmity   Religion  \n",
       "0                               Drilling engineer      None   Catholic  \n",
       "1         Scientist, research (physical sciences)      None   Catholic  \n",
       "2                                         Student      None        NaN  \n",
       "3                                         Student      None        NaN  \n",
       "4                                         Student      None        NaN  \n",
       "5                                         Student      None        NaN  \n",
       "6                                         Student      None        NaN  \n",
       "7                                         Student      None        NaN  \n",
       "8                                           Child      None        NaN  \n",
       "9                                           Child      None        NaN  \n",
       "10                             Arts administrator      None  Christian  \n",
       "11                            Electrical engineer      None       None  \n",
       "12                     Psychologist, occupational      None       None  \n",
       "13                       Surveyor, land/geomatics      None   Catholic  \n",
       "14  Programme researcher, broadcasting/film/video      None   Catholic  "
      ]
     },
     "execution_count": 68,
     "metadata": {},
     "output_type": "execute_result"
    }
   ],
   "source": [
    "single = data[data['Marital Status']=='Single']\n",
    "single"
   ]
  },
  {
   "cell_type": "code",
   "execution_count": 69,
   "id": "c4e3b3aa",
   "metadata": {},
   "outputs": [
    {
     "data": {
      "text/html": [
       "<div>\n",
       "<style scoped>\n",
       "    .dataframe tbody tr th:only-of-type {\n",
       "        vertical-align: middle;\n",
       "    }\n",
       "\n",
       "    .dataframe tbody tr th {\n",
       "        vertical-align: top;\n",
       "    }\n",
       "\n",
       "    .dataframe thead th {\n",
       "        text-align: right;\n",
       "    }\n",
       "</style>\n",
       "<table border=\"1\" class=\"dataframe\">\n",
       "  <thead>\n",
       "    <tr style=\"text-align: right;\">\n",
       "      <th></th>\n",
       "      <th>House Number</th>\n",
       "      <th>Street</th>\n",
       "      <th>First Name</th>\n",
       "      <th>Surname</th>\n",
       "      <th>Age</th>\n",
       "      <th>Relationship to Head of House</th>\n",
       "      <th>Marital Status</th>\n",
       "      <th>Gender</th>\n",
       "      <th>Occupation</th>\n",
       "      <th>Infirmity</th>\n",
       "      <th>Religion</th>\n",
       "    </tr>\n",
       "  </thead>\n",
       "  <tbody>\n",
       "    <tr>\n",
       "      <th>0</th>\n",
       "      <td>1</td>\n",
       "      <td>Rhubarb Drive</td>\n",
       "      <td>Amy</td>\n",
       "      <td>Hall</td>\n",
       "      <td>41</td>\n",
       "      <td>Head</td>\n",
       "      <td>Single</td>\n",
       "      <td>Female</td>\n",
       "      <td>Drilling engineer</td>\n",
       "      <td>None</td>\n",
       "      <td>Catholic</td>\n",
       "    </tr>\n",
       "    <tr>\n",
       "      <th>1</th>\n",
       "      <td>1</td>\n",
       "      <td>Rhubarb Drive</td>\n",
       "      <td>Bruce</td>\n",
       "      <td>Murphy</td>\n",
       "      <td>49</td>\n",
       "      <td>Partner</td>\n",
       "      <td>Single</td>\n",
       "      <td>Male</td>\n",
       "      <td>Scientist, research (physical sciences)</td>\n",
       "      <td>None</td>\n",
       "      <td>Catholic</td>\n",
       "    </tr>\n",
       "    <tr>\n",
       "      <th>10</th>\n",
       "      <td>2</td>\n",
       "      <td>Rhubarb Drive</td>\n",
       "      <td>Terry</td>\n",
       "      <td>Doherty</td>\n",
       "      <td>58</td>\n",
       "      <td>Head</td>\n",
       "      <td>Single</td>\n",
       "      <td>Male</td>\n",
       "      <td>Arts administrator</td>\n",
       "      <td>None</td>\n",
       "      <td>Christian</td>\n",
       "    </tr>\n",
       "    <tr>\n",
       "      <th>11</th>\n",
       "      <td>2</td>\n",
       "      <td>Rhubarb Drive</td>\n",
       "      <td>Raymond</td>\n",
       "      <td>Carter</td>\n",
       "      <td>33</td>\n",
       "      <td>None</td>\n",
       "      <td>Single</td>\n",
       "      <td>Male</td>\n",
       "      <td>Electrical engineer</td>\n",
       "      <td>None</td>\n",
       "      <td>None</td>\n",
       "    </tr>\n",
       "    <tr>\n",
       "      <th>12</th>\n",
       "      <td>2</td>\n",
       "      <td>Rhubarb Drive</td>\n",
       "      <td>Ryan</td>\n",
       "      <td>Farrell</td>\n",
       "      <td>26</td>\n",
       "      <td>None</td>\n",
       "      <td>Single</td>\n",
       "      <td>Male</td>\n",
       "      <td>Psychologist, occupational</td>\n",
       "      <td>None</td>\n",
       "      <td>None</td>\n",
       "    </tr>\n",
       "    <tr>\n",
       "      <th>13</th>\n",
       "      <td>2</td>\n",
       "      <td>Rhubarb Drive</td>\n",
       "      <td>Bethany</td>\n",
       "      <td>Jones</td>\n",
       "      <td>36</td>\n",
       "      <td>None</td>\n",
       "      <td>Single</td>\n",
       "      <td>Female</td>\n",
       "      <td>Surveyor, land/geomatics</td>\n",
       "      <td>None</td>\n",
       "      <td>Catholic</td>\n",
       "    </tr>\n",
       "    <tr>\n",
       "      <th>14</th>\n",
       "      <td>2</td>\n",
       "      <td>Rhubarb Drive</td>\n",
       "      <td>Kieran</td>\n",
       "      <td>Wood</td>\n",
       "      <td>47</td>\n",
       "      <td>None</td>\n",
       "      <td>Single</td>\n",
       "      <td>Male</td>\n",
       "      <td>Programme researcher, broadcasting/film/video</td>\n",
       "      <td>None</td>\n",
       "      <td>Catholic</td>\n",
       "    </tr>\n",
       "  </tbody>\n",
       "</table>\n",
       "</div>"
      ],
      "text/plain": [
       "    House Number         Street First Name  Surname  Age  \\\n",
       "0              1  Rhubarb Drive        Amy     Hall   41   \n",
       "1              1  Rhubarb Drive      Bruce   Murphy   49   \n",
       "10             2  Rhubarb Drive      Terry  Doherty   58   \n",
       "11             2  Rhubarb Drive    Raymond   Carter   33   \n",
       "12             2  Rhubarb Drive       Ryan  Farrell   26   \n",
       "13             2  Rhubarb Drive    Bethany    Jones   36   \n",
       "14             2  Rhubarb Drive     Kieran     Wood   47   \n",
       "\n",
       "   Relationship to Head of House Marital Status  Gender  \\\n",
       "0                           Head         Single  Female   \n",
       "1                        Partner         Single    Male   \n",
       "10                          Head         Single    Male   \n",
       "11                          None         Single    Male   \n",
       "12                          None         Single    Male   \n",
       "13                          None         Single  Female   \n",
       "14                          None         Single    Male   \n",
       "\n",
       "                                       Occupation Infirmity   Religion  \n",
       "0                               Drilling engineer      None   Catholic  \n",
       "1         Scientist, research (physical sciences)      None   Catholic  \n",
       "10                             Arts administrator      None  Christian  \n",
       "11                            Electrical engineer      None       None  \n",
       "12                     Psychologist, occupational      None       None  \n",
       "13                       Surveyor, land/geomatics      None   Catholic  \n",
       "14  Programme researcher, broadcasting/film/video      None   Catholic  "
      ]
     },
     "execution_count": 69,
     "metadata": {},
     "output_type": "execute_result"
    }
   ],
   "source": [
    "#Isolating Single with Age above 18\n",
    "\n",
    "single = single[single.Age > 18]\n",
    "single"
   ]
  },
  {
   "cell_type": "code",
   "execution_count": 70,
   "id": "dbd09668",
   "metadata": {},
   "outputs": [],
   "source": [
    "single.loc[0,['Marital Status']] = 'Married'"
   ]
  },
  {
   "cell_type": "code",
   "execution_count": 72,
   "id": "97a73e16",
   "metadata": {},
   "outputs": [
    {
     "data": {
      "text/html": [
       "<div>\n",
       "<style scoped>\n",
       "    .dataframe tbody tr th:only-of-type {\n",
       "        vertical-align: middle;\n",
       "    }\n",
       "\n",
       "    .dataframe tbody tr th {\n",
       "        vertical-align: top;\n",
       "    }\n",
       "\n",
       "    .dataframe thead th {\n",
       "        text-align: right;\n",
       "    }\n",
       "</style>\n",
       "<table border=\"1\" class=\"dataframe\">\n",
       "  <thead>\n",
       "    <tr style=\"text-align: right;\">\n",
       "      <th></th>\n",
       "      <th>House Number</th>\n",
       "      <th>Street</th>\n",
       "      <th>First Name</th>\n",
       "      <th>Surname</th>\n",
       "      <th>Age</th>\n",
       "      <th>Relationship to Head of House</th>\n",
       "      <th>Marital Status</th>\n",
       "      <th>Gender</th>\n",
       "      <th>Occupation</th>\n",
       "      <th>Infirmity</th>\n",
       "      <th>Religion</th>\n",
       "    </tr>\n",
       "  </thead>\n",
       "  <tbody>\n",
       "    <tr>\n",
       "      <th>34</th>\n",
       "      <td>5</td>\n",
       "      <td>Rhubarb Drive</td>\n",
       "      <td>Clare</td>\n",
       "      <td>Campbell</td>\n",
       "      <td>51</td>\n",
       "      <td>Lodger</td>\n",
       "      <td>Widowed</td>\n",
       "      <td>Female</td>\n",
       "      <td>Engineer, automotive</td>\n",
       "      <td>None</td>\n",
       "      <td>None</td>\n",
       "    </tr>\n",
       "    <tr>\n",
       "      <th>35</th>\n",
       "      <td>5</td>\n",
       "      <td>Rhubarb Drive</td>\n",
       "      <td>Howard</td>\n",
       "      <td>Clark</td>\n",
       "      <td>46</td>\n",
       "      <td>Cousin</td>\n",
       "      <td>Widowed</td>\n",
       "      <td>Male</td>\n",
       "      <td>Rural practice surveyor</td>\n",
       "      <td>None</td>\n",
       "      <td>Jewish</td>\n",
       "    </tr>\n",
       "    <tr>\n",
       "      <th>36</th>\n",
       "      <td>5</td>\n",
       "      <td>Rhubarb Drive</td>\n",
       "      <td>Alexandra</td>\n",
       "      <td>Brown</td>\n",
       "      <td>30</td>\n",
       "      <td>Cousin</td>\n",
       "      <td>Widowed</td>\n",
       "      <td>Female</td>\n",
       "      <td>Event organiser</td>\n",
       "      <td>None</td>\n",
       "      <td>None</td>\n",
       "    </tr>\n",
       "    <tr>\n",
       "      <th>65</th>\n",
       "      <td>9</td>\n",
       "      <td>Rhubarb Drive</td>\n",
       "      <td>Alexander</td>\n",
       "      <td>Jackson</td>\n",
       "      <td>63</td>\n",
       "      <td>Lodger</td>\n",
       "      <td>Widowed</td>\n",
       "      <td>Male</td>\n",
       "      <td>Music therapist</td>\n",
       "      <td>None</td>\n",
       "      <td>Christian</td>\n",
       "    </tr>\n",
       "    <tr>\n",
       "      <th>66</th>\n",
       "      <td>9</td>\n",
       "      <td>Rhubarb Drive</td>\n",
       "      <td>Molly</td>\n",
       "      <td>Khan</td>\n",
       "      <td>27</td>\n",
       "      <td>Lodger</td>\n",
       "      <td>Widowed</td>\n",
       "      <td>Female</td>\n",
       "      <td>Development worker, community</td>\n",
       "      <td>None</td>\n",
       "      <td>Christian</td>\n",
       "    </tr>\n",
       "    <tr>\n",
       "      <th>...</th>\n",
       "      <td>...</td>\n",
       "      <td>...</td>\n",
       "      <td>...</td>\n",
       "      <td>...</td>\n",
       "      <td>...</td>\n",
       "      <td>...</td>\n",
       "      <td>...</td>\n",
       "      <td>...</td>\n",
       "      <td>...</td>\n",
       "      <td>...</td>\n",
       "      <td>...</td>\n",
       "    </tr>\n",
       "    <tr>\n",
       "      <th>9556</th>\n",
       "      <td>32</td>\n",
       "      <td>Reynolds Highway</td>\n",
       "      <td>Amanda</td>\n",
       "      <td>Morris</td>\n",
       "      <td>70</td>\n",
       "      <td>Head</td>\n",
       "      <td>Widowed</td>\n",
       "      <td>Female</td>\n",
       "      <td>Unemployed</td>\n",
       "      <td>None</td>\n",
       "      <td>Christian</td>\n",
       "    </tr>\n",
       "    <tr>\n",
       "      <th>9557</th>\n",
       "      <td>32</td>\n",
       "      <td>Reynolds Highway</td>\n",
       "      <td>Martin</td>\n",
       "      <td>Morris</td>\n",
       "      <td>39</td>\n",
       "      <td>Son</td>\n",
       "      <td>Widowed</td>\n",
       "      <td>Male</td>\n",
       "      <td>Minerals surveyor</td>\n",
       "      <td>None</td>\n",
       "      <td>None</td>\n",
       "    </tr>\n",
       "    <tr>\n",
       "      <th>9680</th>\n",
       "      <td>1</td>\n",
       "      <td>Woodward Cabin</td>\n",
       "      <td>Rita</td>\n",
       "      <td>Henry</td>\n",
       "      <td>38</td>\n",
       "      <td>Lodger</td>\n",
       "      <td>Widowed</td>\n",
       "      <td>Female</td>\n",
       "      <td>Mechanical engineer</td>\n",
       "      <td>None</td>\n",
       "      <td>None</td>\n",
       "    </tr>\n",
       "    <tr>\n",
       "      <th>9681</th>\n",
       "      <td>1</td>\n",
       "      <td>Woodward Cabin</td>\n",
       "      <td>Deborah</td>\n",
       "      <td>Begum</td>\n",
       "      <td>59</td>\n",
       "      <td>Lodger</td>\n",
       "      <td>Widowed</td>\n",
       "      <td>Female</td>\n",
       "      <td>Human resources officer</td>\n",
       "      <td>None</td>\n",
       "      <td>Christian</td>\n",
       "    </tr>\n",
       "    <tr>\n",
       "      <th>9682</th>\n",
       "      <td>1</td>\n",
       "      <td>Woodward Cabin</td>\n",
       "      <td>Liam</td>\n",
       "      <td>Glover</td>\n",
       "      <td>40</td>\n",
       "      <td>Lodger</td>\n",
       "      <td>Widowed</td>\n",
       "      <td>Male</td>\n",
       "      <td>Chartered legal executive (England and Wales)</td>\n",
       "      <td>None</td>\n",
       "      <td>None</td>\n",
       "    </tr>\n",
       "  </tbody>\n",
       "</table>\n",
       "<p>1083 rows × 11 columns</p>\n",
       "</div>"
      ],
      "text/plain": [
       "      House Number            Street First Name   Surname  Age  \\\n",
       "34               5     Rhubarb Drive      Clare  Campbell   51   \n",
       "35               5     Rhubarb Drive     Howard     Clark   46   \n",
       "36               5     Rhubarb Drive  Alexandra     Brown   30   \n",
       "65               9     Rhubarb Drive  Alexander   Jackson   63   \n",
       "66               9     Rhubarb Drive      Molly      Khan   27   \n",
       "...            ...               ...        ...       ...  ...   \n",
       "9556            32  Reynolds Highway     Amanda    Morris   70   \n",
       "9557            32  Reynolds Highway     Martin    Morris   39   \n",
       "9680             1    Woodward Cabin       Rita     Henry   38   \n",
       "9681             1    Woodward Cabin    Deborah     Begum   59   \n",
       "9682             1    Woodward Cabin       Liam    Glover   40   \n",
       "\n",
       "     Relationship to Head of House Marital Status  Gender  \\\n",
       "34                          Lodger        Widowed  Female   \n",
       "35                          Cousin        Widowed    Male   \n",
       "36                          Cousin        Widowed  Female   \n",
       "65                          Lodger        Widowed    Male   \n",
       "66                          Lodger        Widowed  Female   \n",
       "...                            ...            ...     ...   \n",
       "9556                          Head        Widowed  Female   \n",
       "9557                           Son        Widowed    Male   \n",
       "9680                        Lodger        Widowed  Female   \n",
       "9681                        Lodger        Widowed  Female   \n",
       "9682                        Lodger        Widowed    Male   \n",
       "\n",
       "                                         Occupation Infirmity   Religion  \n",
       "34                             Engineer, automotive      None       None  \n",
       "35                          Rural practice surveyor      None     Jewish  \n",
       "36                                  Event organiser      None       None  \n",
       "65                                  Music therapist      None  Christian  \n",
       "66                    Development worker, community      None  Christian  \n",
       "...                                             ...       ...        ...  \n",
       "9556                                     Unemployed      None  Christian  \n",
       "9557                              Minerals surveyor      None       None  \n",
       "9680                            Mechanical engineer      None       None  \n",
       "9681                        Human resources officer      None  Christian  \n",
       "9682  Chartered legal executive (England and Wales)      None       None  \n",
       "\n",
       "[1083 rows x 11 columns]"
      ]
     },
     "execution_count": 72,
     "metadata": {},
     "output_type": "execute_result"
    }
   ],
   "source": [
    "widowed = data[data['Marital Status'] == 'Widowed']\n",
    "widowed"
   ]
  },
  {
   "cell_type": "code",
   "execution_count": 73,
   "id": "a7f7916c",
   "metadata": {},
   "outputs": [
    {
     "data": {
      "text/plain": [
       "array(['Drilling engineer', 'Scientist, research (physical sciences)',\n",
       "       'Student', ..., 'Retired Secretary/administrator',\n",
       "       'Retired Occupational hygienist',\n",
       "       'Retired Research scientist (life sciences)'], dtype=object)"
      ]
     },
     "execution_count": 73,
     "metadata": {},
     "output_type": "execute_result"
    }
   ],
   "source": [
    "data['Occupation'].unique()"
   ]
  },
  {
   "cell_type": "code",
   "execution_count": 75,
   "id": "94137fbe",
   "metadata": {},
   "outputs": [
    {
     "data": {
      "text/plain": [
       "0"
      ]
     },
     "execution_count": 75,
     "metadata": {},
     "output_type": "execute_result"
    }
   ],
   "source": [
    "data['Occupation'].isna().sum()"
   ]
  },
  {
   "cell_type": "code",
   "execution_count": 77,
   "id": "b65afc91",
   "metadata": {},
   "outputs": [
    {
     "data": {
      "text/html": [
       "<div>\n",
       "<style scoped>\n",
       "    .dataframe tbody tr th:only-of-type {\n",
       "        vertical-align: middle;\n",
       "    }\n",
       "\n",
       "    .dataframe tbody tr th {\n",
       "        vertical-align: top;\n",
       "    }\n",
       "\n",
       "    .dataframe thead th {\n",
       "        text-align: right;\n",
       "    }\n",
       "</style>\n",
       "<table border=\"1\" class=\"dataframe\">\n",
       "  <thead>\n",
       "    <tr style=\"text-align: right;\">\n",
       "      <th></th>\n",
       "      <th>House Number</th>\n",
       "      <th>Street</th>\n",
       "      <th>First Name</th>\n",
       "      <th>Surname</th>\n",
       "      <th>Age</th>\n",
       "      <th>Relationship to Head of House</th>\n",
       "      <th>Marital Status</th>\n",
       "      <th>Gender</th>\n",
       "      <th>Occupation</th>\n",
       "      <th>Infirmity</th>\n",
       "      <th>Religion</th>\n",
       "    </tr>\n",
       "  </thead>\n",
       "  <tbody>\n",
       "    <tr>\n",
       "      <th>8563</th>\n",
       "      <td>205</td>\n",
       "      <td>Willis Avenue</td>\n",
       "      <td>Bernard</td>\n",
       "      <td>Williams</td>\n",
       "      <td>21</td>\n",
       "      <td>Head</td>\n",
       "      <td>Married</td>\n",
       "      <td>Male</td>\n",
       "      <td></td>\n",
       "      <td>None</td>\n",
       "      <td>Methodist</td>\n",
       "    </tr>\n",
       "  </tbody>\n",
       "</table>\n",
       "</div>"
      ],
      "text/plain": [
       "      House Number         Street First Name   Surname  Age  \\\n",
       "8563           205  Willis Avenue    Bernard  Williams   21   \n",
       "\n",
       "     Relationship to Head of House Marital Status Gender Occupation Infirmity  \\\n",
       "8563                          Head        Married   Male                 None   \n",
       "\n",
       "       Religion  \n",
       "8563  Methodist  "
      ]
     },
     "execution_count": 77,
     "metadata": {},
     "output_type": "execute_result"
    }
   ],
   "source": [
    "data[data['Occupation'] == ' ']"
   ]
  },
  {
   "cell_type": "code",
   "execution_count": 80,
   "id": "00751cc8",
   "metadata": {},
   "outputs": [],
   "source": [
    "data.loc[8563,['Occupation']] = 'Unstated'"
   ]
  },
  {
   "cell_type": "code",
   "execution_count": 81,
   "id": "c7cec810",
   "metadata": {},
   "outputs": [
    {
     "data": {
      "text/plain": [
       "array(['None', 'Deaf', 'Blind', 'Physical Disability', ' ', 'Disabled',\n",
       "       'Mental Disability', 'Unknown Infection'], dtype=object)"
      ]
     },
     "execution_count": 81,
     "metadata": {},
     "output_type": "execute_result"
    }
   ],
   "source": [
    "data['Infirmity'].unique()"
   ]
  },
  {
   "cell_type": "code",
   "execution_count": 82,
   "id": "f87fe303",
   "metadata": {},
   "outputs": [],
   "source": [
    "data['Infirmity'].replace([' '],\"Unstated\",inplace=True)"
   ]
  },
  {
   "cell_type": "code",
   "execution_count": 83,
   "id": "0906cd03",
   "metadata": {},
   "outputs": [
    {
     "data": {
      "text/plain": [
       "array(['Catholic', nan, 'Christian', 'None', 'Methodist', 'Jewish',\n",
       "       'Muslim', 'Sikh', 'Jedi', 'Bahai', 'Quaker', 'Pagan', ' ',\n",
       "       'Housekeeper'], dtype=object)"
      ]
     },
     "execution_count": 83,
     "metadata": {},
     "output_type": "execute_result"
    }
   ],
   "source": [
    "data['Religion'].unique()"
   ]
  },
  {
   "cell_type": "code",
   "execution_count": 84,
   "id": "490e3f39",
   "metadata": {},
   "outputs": [],
   "source": [
    "data['Religion'].replace([' ',np.nan],[\"Unstated\",\"Unstated\"],inplace=True)"
   ]
  },
  {
   "cell_type": "code",
   "execution_count": 85,
   "id": "be394cd4",
   "metadata": {},
   "outputs": [
    {
     "data": {
      "text/plain": [
       "None           3219\n",
       "Unstated       2343\n",
       "Christian      2261\n",
       "Catholic       1034\n",
       "Methodist       636\n",
       "Muslim          120\n",
       "Sikh             68\n",
       "Jewish           37\n",
       "Quaker            3\n",
       "Jedi              2\n",
       "Bahai             2\n",
       "Pagan             2\n",
       "Housekeeper       1\n",
       "Name: Religion, dtype: int64"
      ]
     },
     "execution_count": 85,
     "metadata": {},
     "output_type": "execute_result"
    }
   ],
   "source": [
    "data['Religion'].value_counts()"
   ]
  },
  {
   "cell_type": "code",
   "execution_count": null,
   "id": "313de6e0",
   "metadata": {},
   "outputs": [],
   "source": []
  }
 ],
 "metadata": {
  "kernelspec": {
   "display_name": "Python 3 (ipykernel)",
   "language": "python",
   "name": "python3"
  },
  "language_info": {
   "codemirror_mode": {
    "name": "ipython",
    "version": 3
   },
   "file_extension": ".py",
   "mimetype": "text/x-python",
   "name": "python",
   "nbconvert_exporter": "python",
   "pygments_lexer": "ipython3",
   "version": "3.9.13"
  }
 },
 "nbformat": 4,
 "nbformat_minor": 5
}
